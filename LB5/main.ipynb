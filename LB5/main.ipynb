{
 "cells": [
  {
   "attachments": {},
   "cell_type": "markdown",
   "metadata": {},
   "source": [
    "# Лабораторная работа №5\n",
    "### Описание столбцов для предоставленных данных:\n",
    "\n",
    "1. mpg: количество миль, которое автомобиль может проехать на одном галлоне топлива (вещественный)\n",
    "2. cylinders: количество цилиндров в двигателе автомобиля (целочисленный)\n",
    "3. displacement: объем двигателя в кубических дюймах (вещественный)\n",
    "4. horsepower: мощность двигателя в лошадиных силах (целочисленный)\n",
    "5. weight: вес автомобиля в фунтах (вещественный)\n",
    "6. acceleration: время разгона автомобиля от 0 до 60 миль в час (вещественный)\n",
    "7. model: год выпуска модели автомобиля (целочисленный)\n",
    "8. origin: код страны производителя (целочисленный)\n",
    "9. car: название и модель автомобиля (категориальный)\n",
    "\n",
    "### Типы данных столбцов:\n",
    "\n",
    "1. mpg: вещественный\n",
    "2. cylinders: целочисленный\n",
    "3. displacement: вещественный\n",
    "4. horsepower: целочисленный\n",
    "5. weight: вещественный\n",
    "6. acceleration: вещественный\n",
    "7. model: целочисленный\n",
    "8. origin: целочисленный\n",
    "9. car: категориальный (строковый)"
   ]
  },
  {
   "attachments": {},
   "cell_type": "markdown",
   "metadata": {},
   "source": [
    "### Подключение данных и вывод таблицы"
   ]
  },
  {
   "cell_type": "code",
   "execution_count": 3,
   "metadata": {},
   "outputs": [
    {
     "name": "stdout",
     "output_type": "stream",
     "text": [
      "    mpg  cylinders  displacement horsepower  weight  acceleration  model   \n",
      "0  33.0          4            91         53    1795          17.4     76  \\\n",
      "1  20.0          6           225        100    3651          17.7     76   \n",
      "2  18.0          6           250         78    3574          21.0     76   \n",
      "3  18.5          6           250        110    3645          16.2     76   \n",
      "4  17.5          6           258         95    3193          17.8     76   \n",
      "\n",
      "   origin                 car  \n",
      "0       3         honda civic  \n",
      "1       1      dodge aspen se  \n",
      "2       1   ford granada ghia  \n",
      "3       1  pontiac ventura sj  \n",
      "4       1       amc pacer d/l  \n",
      "<class 'pandas.core.frame.DataFrame'>\n",
      "RangeIndex: 200 entries, 0 to 199\n",
      "Data columns (total 9 columns):\n",
      " #   Column        Non-Null Count  Dtype  \n",
      "---  ------        --------------  -----  \n",
      " 0   mpg           200 non-null    float64\n",
      " 1   cylinders     200 non-null    int64  \n",
      " 2   displacement  200 non-null    int64  \n",
      " 3   horsepower    200 non-null    object \n",
      " 4   weight        200 non-null    int64  \n",
      " 5   acceleration  200 non-null    float64\n",
      " 6   model         200 non-null    int64  \n",
      " 7   origin        200 non-null    int64  \n",
      " 8   car           200 non-null    object \n",
      "dtypes: float64(2), int64(5), object(2)\n",
      "memory usage: 14.2+ KB\n",
      "None\n"
     ]
    }
   ],
   "source": [
    "import pandas as pd\n",
    "import numpy as np\n",
    "\n",
    "dataSet = './auto2.csv'\n",
    "df = pd.read_csv(dataSet)\n",
    "\n",
    "print(df.head())\n",
    "print(df.info())"
   ]
  },
  {
   "attachments": {},
   "cell_type": "markdown",
   "metadata": {},
   "source": [
    "### Вывод первых 5 элементов таблицы"
   ]
  },
  {
   "cell_type": "code",
   "execution_count": 4,
   "metadata": {},
   "outputs": [
    {
     "name": "stdout",
     "output_type": "stream",
     "text": [
      "    mpg  cylinders  displacement horsepower  weight  acceleration  model   \n",
      "0  33.0          4            91         53    1795          17.4     76  \\\n",
      "1  20.0          6           225        100    3651          17.7     76   \n",
      "2  18.0          6           250         78    3574          21.0     76   \n",
      "3  18.5          6           250        110    3645          16.2     76   \n",
      "4  17.5          6           258         95    3193          17.8     76   \n",
      "\n",
      "   origin                 car  \n",
      "0       3         honda civic  \n",
      "1       1      dodge aspen se  \n",
      "2       1   ford granada ghia  \n",
      "3       1  pontiac ventura sj  \n",
      "4       1       amc pacer d/l  \n"
     ]
    }
   ],
   "source": [
    "print(df.head())"
   ]
  },
  {
   "attachments": {},
   "cell_type": "markdown",
   "metadata": {},
   "source": [
    "### Вывод последних 5 элементов таблицы"
   ]
  },
  {
   "cell_type": "code",
   "execution_count": 5,
   "metadata": {},
   "outputs": [
    {
     "name": "stdout",
     "output_type": "stream",
     "text": [
      "      mpg  cylinders  displacement horsepower  weight  acceleration  model   \n",
      "195  27.0          4           140         86    2790          15.6     82  \\\n",
      "196  44.0          4            97         52    2130          24.6     82   \n",
      "197  32.0          4           135         84    2295          11.6     82   \n",
      "198  28.0          4           120         79    2625          18.6     82   \n",
      "199  31.0          4           119         82    2720          19.4     82   \n",
      "\n",
      "     origin              car  \n",
      "195       1  ford mustang gl  \n",
      "196       2        vw pickup  \n",
      "197       1    dodge rampage  \n",
      "198       1      ford ranger  \n",
      "199       1       chevy s-10  \n"
     ]
    }
   ],
   "source": [
    "print(df.tail())"
   ]
  },
  {
   "attachments": {},
   "cell_type": "markdown",
   "metadata": {},
   "source": [
    "###  использовать функцию describe()"
   ]
  },
  {
   "cell_type": "code",
   "execution_count": 6,
   "metadata": {},
   "outputs": [
    {
     "name": "stdout",
     "output_type": "stream",
     "text": [
      "              mpg   cylinders  displacement      weight  acceleration   \n",
      "count  200.000000  200.000000    200.000000   200.00000    200.000000  \\\n",
      "mean    27.271500    5.015000    163.685000  2765.03500     16.125000   \n",
      "std      7.739012    1.491947     82.273266   693.12173      2.525324   \n",
      "min     13.000000    3.000000     70.000000  1755.00000     11.100000   \n",
      "25%     20.200000    4.000000     98.000000  2148.75000     14.500000   \n",
      "50%     27.200000    4.000000    135.000000  2667.50000     15.800000   \n",
      "75%     33.125000    6.000000    225.000000  3266.25000     17.600000   \n",
      "max     46.600000    8.000000    400.000000  4380.00000     24.800000   \n",
      "\n",
      "            model      origin  \n",
      "count  200.000000  200.000000  \n",
      "mean    79.170000    1.705000  \n",
      "std      1.912955    0.867026  \n",
      "min     76.000000    1.000000  \n",
      "25%     78.000000    1.000000  \n",
      "50%     79.000000    1.000000  \n",
      "75%     81.000000    3.000000  \n",
      "max     82.000000    3.000000  \n"
     ]
    }
   ],
   "source": [
    "print(df.describe())"
   ]
  },
  {
   "attachments": {},
   "cell_type": "markdown",
   "metadata": {},
   "source": [
    "### считывание значения конкретной ячейки (с конкретным индексом из конкретной колонки) всеми известными вам способами"
   ]
  },
  {
   "cell_type": "code",
   "execution_count": 9,
   "metadata": {},
   "outputs": [
    {
     "name": "stdout",
     "output_type": "stream",
     "text": [
      "33.0\n",
      "76\n",
      "76\n"
     ]
    }
   ],
   "source": [
    "print(df.iloc[0, 0])\n",
    "print(df.at[0, 'model'])\n",
    "print(df.loc[0, 'model'])"
   ]
  },
  {
   "attachments": {},
   "cell_type": "markdown",
   "metadata": {},
   "source": [
    "### фильтрация строк по диапазону индекса"
   ]
  },
  {
   "cell_type": "code",
   "execution_count": 10,
   "metadata": {},
   "outputs": [
    {
     "name": "stdout",
     "output_type": "stream",
     "text": [
      "     mpg  cylinders  displacement horsepower  weight  acceleration  model   \n",
      "10  13.0          8           318        150    3940          13.2     76  \\\n",
      "11  19.0          4           120         88    3270          21.9     76   \n",
      "12  19.0          6           156        108    2930          15.5     76   \n",
      "13  16.5          6           168        120    3820          16.7     76   \n",
      "14  16.5          8           350        180    4380          12.1     76   \n",
      "15  13.0          8           350        145    4055          12.0     76   \n",
      "16  13.0          8           302        130    3870          15.0     76   \n",
      "17  13.0          8           318        150    3755          14.0     76   \n",
      "18  31.5          4            98         68    2045          18.5     77   \n",
      "19  30.0          4           111         80    2155          14.8     77   \n",
      "20  36.0          4            79         58    1825          18.6     77   \n",
      "\n",
      "    origin                         car  \n",
      "10       1  plymouth volare premier v8  \n",
      "11       2                 peugeot 504  \n",
      "12       3              toyota mark ii  \n",
      "13       2          mercedes-benz 280s  \n",
      "14       1            cadillac seville  \n",
      "15       1                   chevy c10  \n",
      "16       1                   ford f108  \n",
      "17       1                  dodge d100  \n",
      "18       3           honda accord cvcc  \n",
      "19       1     buick opel isuzu deluxe  \n",
      "20       2               renault 5 gtl  \n"
     ]
    }
   ],
   "source": [
    "print(df.loc[10:20])"
   ]
  },
  {
   "attachments": {},
   "cell_type": "markdown",
   "metadata": {},
   "source": [
    "### Фильтрация набора данных по какому-либо условию"
   ]
  },
  {
   "cell_type": "code",
   "execution_count": 13,
   "metadata": {},
   "outputs": [
    {
     "name": "stdout",
     "output_type": "stream",
     "text": [
      "      mpg  cylinders  displacement horsepower  weight  acceleration  model   \n",
      "2    18.0          6           250         78    3574          21.0     76  \\\n",
      "3    18.5          6           250        110    3645          16.2     76   \n",
      "4    17.5          6           258         95    3193          17.8     76   \n",
      "10   13.0          8           318        150    3940          13.2     76   \n",
      "11   19.0          4           120         88    3270          21.9     76   \n",
      "12   19.0          6           156        108    2930          15.5     76   \n",
      "13   16.5          6           168        120    3820          16.7     76   \n",
      "14   16.5          8           350        180    4380          12.1     76   \n",
      "15   13.0          8           350        145    4055          12.0     76   \n",
      "16   13.0          8           302        130    3870          15.0     76   \n",
      "17   13.0          8           318        150    3755          14.0     76   \n",
      "23   17.5          8           305        145    3880          12.5     77   \n",
      "24   17.0          8           260        110    4060          19.0     77   \n",
      "25   15.5          8           318        145    4140          13.7     77   \n",
      "26   15.0          8           302        130    4295          14.9     77   \n",
      "27   17.5          6           250        110    3520          16.4     77   \n",
      "29   19.0          6           225        100    3630          17.7     77   \n",
      "30   18.5          6           250         98    3525          19.0     77   \n",
      "31   16.0          8           400        180    4220          11.1     77   \n",
      "32   15.5          8           350        170    4165          11.4     77   \n",
      "33   15.5          8           400        190    4325          12.2     77   \n",
      "34   16.0          8           351        149    4335          14.5     77   \n",
      "51   19.9          8           260        110    3365          15.5     78   \n",
      "52   19.4          8           318        140    3735          13.2     78   \n",
      "54   19.2          6           231        105    3535          19.2     78   \n",
      "59   19.4          6           232         90    3210          17.2     78   \n",
      "62   18.6          6           225        110    3620          18.7     78   \n",
      "63   18.1          6           258        120    3410          15.1     78   \n",
      "64   19.2          8           305        145    3425          13.2     78   \n",
      "65   17.7          6           231        165    3445          13.4     78   \n",
      "66   18.1          8           302        139    3205          11.2     78   \n",
      "67   17.5          8           318        140    4080          13.7     78   \n",
      "77   17.0          6           163        125    3140          13.6     78   \n",
      "79   16.2          6           163        133    3410          15.8     78   \n",
      "83   19.8          6           200         85    2990          18.2     79   \n",
      "87   17.0          8           305        130    3840          15.4     79   \n",
      "88   17.6          8           302        129    3725          13.4     79   \n",
      "89   16.5          8           351        138    3955          13.2     79   \n",
      "90   18.2          8           318        135    3830          15.2     79   \n",
      "91   16.9          8           350        155    4360          14.9     79   \n",
      "92   15.5          8           351        142    4054          14.3     79   \n",
      "93   19.2          8           267        125    3605          15.0     79   \n",
      "94   18.5          8           360        150    3940          13.0     79   \n",
      "118  19.1          6           225         90    3381          18.7     80   \n",
      "168  17.6          6           225         85    3465          16.6     81   \n",
      "\n",
      "     origin                                   car  \n",
      "2         1                     ford granada ghia  \n",
      "3         1                    pontiac ventura sj  \n",
      "4         1                         amc pacer d/l  \n",
      "10        1            plymouth volare premier v8  \n",
      "11        2                           peugeot 504  \n",
      "12        3                        toyota mark ii  \n",
      "13        2                    mercedes-benz 280s  \n",
      "14        1                      cadillac seville  \n",
      "15        1                             chevy c10  \n",
      "16        1                             ford f108  \n",
      "17        1                            dodge d100  \n",
      "23        1             chevrolet caprice classic  \n",
      "24        1            oldsmobile cutlass supreme  \n",
      "25        1                 dodge monaco brougham  \n",
      "26        1               mercury cougar brougham  \n",
      "27        1                    chevrolet concours  \n",
      "29        1                plymouth volare custom  \n",
      "30        1                          ford granada  \n",
      "31        1                 pontiac grand prix lj  \n",
      "32        1          chevrolet monte carlo landau  \n",
      "33        1                      chrysler cordoba  \n",
      "34        1                      ford thunderbird  \n",
      "51        1     oldsmobile cutlass salon brougham  \n",
      "52        1                        dodge diplomat  \n",
      "54        1                    pontiac phoenix lj  \n",
      "59        1                           amc concord  \n",
      "62        1                           dodge aspen  \n",
      "63        1                       amc concord d/l  \n",
      "64        1          chevrolet monte carlo landau  \n",
      "65        1       buick regal sport coupe (turbo)  \n",
      "66        1                           ford futura  \n",
      "67        1                       dodge magnum xe  \n",
      "77        2                           volvo 264gl  \n",
      "79        2                         peugeot 604sl  \n",
      "83        1                      mercury zephyr 6  \n",
      "87        1             chevrolet caprice classic  \n",
      "88        1                       ford ltd landau  \n",
      "89        1                 mercury grand marquis  \n",
      "90        1                       dodge st. regis  \n",
      "91        1               buick estate wagon (sw)  \n",
      "92        1              ford country squire (sw)  \n",
      "93        1         chevrolet malibu classic (sw)  \n",
      "94        1  chrysler lebaron town @ country (sw)  \n",
      "118       1                           dodge aspen  \n",
      "168       1                chrysler lebaron salon  \n"
     ]
    }
   ],
   "source": [
    "print(df[df['mpg'] < 20])"
   ]
  },
  {
   "attachments": {},
   "cell_type": "markdown",
   "metadata": {},
   "source": [
    "### Работа с пропущенными значениями (если они есть): удаление строк с пропущенными значениями, заполнение пропущенных значений средним значением по колонке. Если пропущенных значений нет — намеренно их \"генерируете\", прибивая какие-то куски данных в np.nan"
   ]
  },
  {
   "cell_type": "code",
   "execution_count": 14,
   "metadata": {},
   "outputs": [
    {
     "name": "stdout",
     "output_type": "stream",
     "text": [
      "              mpg   cylinders  displacement      weight  acceleration   \n",
      "count  200.000000  200.000000    200.000000   200.00000    200.000000  \\\n",
      "mean    27.271500    5.015000    163.685000  2765.03500     16.125000   \n",
      "std      7.739012    1.491947     82.273266   693.12173      2.525324   \n",
      "min     13.000000    3.000000     70.000000  1755.00000     11.100000   \n",
      "25%     20.200000    4.000000     98.000000  2148.75000     14.500000   \n",
      "50%     27.200000    4.000000    135.000000  2667.50000     15.800000   \n",
      "75%     33.125000    6.000000    225.000000  3266.25000     17.600000   \n",
      "max     46.600000    8.000000    400.000000  4380.00000     24.800000   \n",
      "\n",
      "            model      origin  \n",
      "count  200.000000  200.000000  \n",
      "mean    79.170000    1.705000  \n",
      "std      1.912955    0.867026  \n",
      "min     76.000000    1.000000  \n",
      "25%     78.000000    1.000000  \n",
      "50%     79.000000    1.000000  \n",
      "75%     81.000000    3.000000  \n",
      "max     82.000000    3.000000  \n",
      "              mpg   cylinders  displacement      weight  acceleration   \n",
      "count  200.000000  200.000000    200.000000   200.00000    200.000000  \\\n",
      "mean    27.271500    5.015000    163.685000  2765.03500     16.125000   \n",
      "std      7.739012    1.491947     82.273266   693.12173      2.525324   \n",
      "min     13.000000    3.000000     70.000000  1755.00000     11.100000   \n",
      "25%     20.200000    4.000000     98.000000  2148.75000     14.500000   \n",
      "50%     27.200000    4.000000    135.000000  2667.50000     15.800000   \n",
      "75%     33.125000    6.000000    225.000000  3266.25000     17.600000   \n",
      "max     46.600000    8.000000    400.000000  4380.00000     24.800000   \n",
      "\n",
      "            model      origin  \n",
      "count  200.000000  200.000000  \n",
      "mean    79.170000    1.705000  \n",
      "std      1.912955    0.867026  \n",
      "min     76.000000    1.000000  \n",
      "25%     78.000000    1.000000  \n",
      "50%     79.000000    1.000000  \n",
      "75%     81.000000    3.000000  \n",
      "max     82.000000    3.000000  \n"
     ]
    }
   ],
   "source": [
    "# генерация пропущенных строк\n",
    "data = np.random.rand(1000, 5)\n",
    "mask = np.random.choice([True, False], size=data.shape, p=[0.05, 0.95])\n",
    "data[mask] = np.nan\n",
    "\n",
    "print(df.describe())\n",
    "\n",
    "# Заполнение пропущенных значений в колонке mpg средним значением\n",
    "mean_mpg = df['mpg'].mean()\n",
    "df['mpg'].fillna(mean_mpg, inplace=True)\n",
    "\n",
    "# удаление пропущенных строк\n",
    "df.dropna(inplace=True)\n",
    "\n",
    "print(df.describe())"
   ]
  },
  {
   "attachments": {},
   "cell_type": "markdown",
   "metadata": {},
   "source": [
    "### Cоздание нового поля вычисленного на основе значений других полей:"
   ]
  },
  {
   "cell_type": "code",
   "execution_count": 15,
   "metadata": {},
   "outputs": [
    {
     "name": "stdout",
     "output_type": "stream",
     "text": [
      "     cylinders_and_displacement mpg_category\n",
      "0                            95          low\n",
      "1                           231          low\n",
      "2                           256          low\n",
      "3                           256          low\n",
      "4                           264          low\n",
      "..                          ...          ...\n",
      "195                         144          low\n",
      "196                         101          low\n",
      "197                         139          low\n",
      "198                         124          low\n",
      "199                         123          low\n",
      "\n",
      "[200 rows x 2 columns]\n"
     ]
    }
   ],
   "source": [
    "# Через выражение на базе имеющихся колонок\n",
    "df['cylinders_and_displacement'] = df['cylinders'] + df['displacement']\n",
    "\n",
    "\n",
    "# Через Series.apply\n",
    "def classify_mpg(mpg):\n",
    "    if mpg < 321950:\n",
    "        return 'low'\n",
    "    elif mpg < 450000:\n",
    "        return 'medium'\n",
    "    else:\n",
    "        return 'high'\n",
    "\n",
    "df['mpg_category'] = df['mpg'].apply(classify_mpg)\n",
    "\n",
    "print(df[['cylinders_and_displacement', 'mpg_category']])"
   ]
  },
  {
   "attachments": {},
   "cell_type": "markdown",
   "metadata": {},
   "source": [
    "### Сортировка по какому-либо из полей"
   ]
  },
  {
   "cell_type": "code",
   "execution_count": 16,
   "metadata": {},
   "outputs": [
    {
     "name": "stdout",
     "output_type": "stream",
     "text": [
      "      mpg  cylinders  displacement horsepower  weight  acceleration  model   \n",
      "124  46.6          4            86         65    2110          17.9     80  \\\n",
      "131  44.6          4            91         67    1850          13.8     80   \n",
      "127  44.3          4            90         48    2085          21.7     80   \n",
      "196  44.0          4            97         52    2130          24.6     82   \n",
      "128  43.4          4            90         48    2335          23.7     80   \n",
      "..    ...        ...           ...        ...     ...           ...    ...   \n",
      "26   15.0          8           302        130    4295          14.9     77   \n",
      "10   13.0          8           318        150    3940          13.2     76   \n",
      "15   13.0          8           350        145    4055          12.0     76   \n",
      "16   13.0          8           302        130    3870          15.0     76   \n",
      "17   13.0          8           318        150    3755          14.0     76   \n",
      "\n",
      "     origin                         car  cylinders_and_displacement   \n",
      "124       3                   mazda glc                          90  \\\n",
      "131       3         honda civic 1500 gl                          95   \n",
      "127       2        vw rabbit c (diesel)                          94   \n",
      "196       2                   vw pickup                         101   \n",
      "128       2          vw dasher (diesel)                          94   \n",
      "..      ...                         ...                         ...   \n",
      "26        1     mercury cougar brougham                         310   \n",
      "10        1  plymouth volare premier v8                         326   \n",
      "15        1                   chevy c10                         358   \n",
      "16        1                   ford f108                         310   \n",
      "17        1                  dodge d100                         326   \n",
      "\n",
      "    mpg_category  \n",
      "124          low  \n",
      "131          low  \n",
      "127          low  \n",
      "196          low  \n",
      "128          low  \n",
      "..           ...  \n",
      "26           low  \n",
      "10           low  \n",
      "15           low  \n",
      "16           low  \n",
      "17           low  \n",
      "\n",
      "[200 rows x 11 columns]\n"
     ]
    }
   ],
   "source": [
    "df_sorted = df.sort_values('mpg', ascending=False)\n",
    "print(df_sorted)"
   ]
  },
  {
   "attachments": {},
   "cell_type": "markdown",
   "metadata": {},
   "source": [
    "### Вычислить несколько статистик по колонкам (используйте встроенные агрегатные функции — любые на выбор)"
   ]
  },
  {
   "cell_type": "code",
   "execution_count": 17,
   "metadata": {},
   "outputs": [
    {
     "name": "stdout",
     "output_type": "stream",
     "text": [
      "mpg              27.2715\n",
      "displacement    163.6850\n",
      "dtype: float64\n",
      "mpg              27.2\n",
      "displacement    135.0\n",
      "dtype: float64\n",
      "mpg              46.6\n",
      "displacement    400.0\n",
      "dtype: float64\n"
     ]
    }
   ],
   "source": [
    "print(df[['mpg', 'displacement']].mean())\n",
    "print(df[['mpg', 'displacement']].median())\n",
    "print(df[['mpg', 'displacement']].max())"
   ]
  },
  {
   "attachments": {},
   "cell_type": "markdown",
   "metadata": {},
   "source": [
    "### value_counts()"
   ]
  },
  {
   "cell_type": "code",
   "execution_count": 18,
   "metadata": {},
   "outputs": [
    {
     "name": "stdout",
     "output_type": "stream",
     "text": [
      "model\n",
      "78    36\n",
      "82    31\n",
      "79    29\n",
      "80    29\n",
      "81    29\n",
      "77    28\n",
      "76    18\n",
      "Name: count, dtype: int64\n"
     ]
    }
   ],
   "source": [
    "print(df['model'].value_counts())"
   ]
  },
  {
   "attachments": {},
   "cell_type": "markdown",
   "metadata": {},
   "source": [
    "### Вывод уникальных значений колонки через .unique()"
   ]
  },
  {
   "cell_type": "code",
   "execution_count": 19,
   "metadata": {},
   "outputs": [
    {
     "name": "stdout",
     "output_type": "stream",
     "text": [
      "['53' '100' '78' '110' '95' '71' '70' '75' '72' '102' '150' '88' '108'\n",
      " '120' '180' '145' '130' '68' '80' '58' '96' '105' '98' '170' '190' '149'\n",
      " '89' '63' '83' '67' '97' '48' '66' '52' '60' '140' '139' '85' '90' '165'\n",
      " '103' '125' '115' '133' '129' '138' '135' '155' '142' '65' '77' '69' '76'\n",
      " '92' '?' '62' '132' '84' '64' '74' '116' '112' '86' '79' '82']\n"
     ]
    }
   ],
   "source": [
    "print(df['horsepower'].unique())"
   ]
  },
  {
   "attachments": {},
   "cell_type": "markdown",
   "metadata": {},
   "source": [
    "### Удалите текущий индекс и создайте новый индекс на базе новой колонки, которая для этого лучше всего подходит"
   ]
  },
  {
   "cell_type": "code",
   "execution_count": 20,
   "metadata": {},
   "outputs": [],
   "source": [
    "df = df.set_index('horsepower')"
   ]
  }
 ],
 "metadata": {
  "kernelspec": {
   "display_name": "Python 3",
   "language": "python",
   "name": "python3"
  },
  "language_info": {
   "codemirror_mode": {
    "name": "ipython",
    "version": 3
   },
   "file_extension": ".py",
   "mimetype": "text/x-python",
   "name": "python",
   "nbconvert_exporter": "python",
   "pygments_lexer": "ipython3",
   "version": "3.8.3"
  },
  "orig_nbformat": 4
 },
 "nbformat": 4,
 "nbformat_minor": 2
}
